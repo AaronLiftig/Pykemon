{
 "cells": [
  {
   "cell_type": "code",
   "execution_count": 1,
   "metadata": {},
   "outputs": [],
   "source": [
    "import requests\n",
    "from bs4 import BeautifulSoup\n",
    "import pandas as pd\n",
    "import numpy as np"
   ]
  },
  {
   "cell_type": "code",
   "execution_count": 2,
   "metadata": {},
   "outputs": [],
   "source": [
    "request = requests.get('https://pokemondb.net/pokedex/national')"
   ]
  },
  {
   "cell_type": "code",
   "execution_count": 3,
   "metadata": {},
   "outputs": [],
   "source": [
    "soup = BeautifulSoup(request.text, 'html.parser')"
   ]
  },
  {
   "cell_type": "code",
   "execution_count": 4,
   "metadata": {},
   "outputs": [],
   "source": [
    "pokemon_data = {'number':[], 'image_url':[]}\n",
    "\n",
    "generations_list = soup.find_all(class_ = 'infocard-list infocard-list-pkmn-lg')\n",
    "for generation in generations_list:\n",
    "    pokemon_list = generation.find_all(class_ = 'infocard')\n",
    "    for pokemon in pokemon_list:\n",
    "        try:\n",
    "            image_url = pokemon.find(class_ = 'img-fixed img-sprite')['data-src']\n",
    "        \n",
    "        except TypeError:\n",
    "            image_url = pokemon.find(class_ = 'img-fixed img-sprite img-sprite-v18')['data-src']\n",
    "            \n",
    "        number = pokemon.find(class_ = \"infocard-lg-data text-muted\").find('small').text\n",
    "        number = number.replace('#','')\n",
    "        number = int(number)\n",
    "    \n",
    "        pokemon_data['number'].append(number)\n",
    "        pokemon_data['image_url'].append(image_url)"
   ]
  },
  {
   "cell_type": "code",
   "execution_count": 5,
   "metadata": {},
   "outputs": [],
   "source": [
    "df = pd.DataFrame(pokemon_data)"
   ]
  },
  {
   "cell_type": "code",
   "execution_count": 6,
   "metadata": {},
   "outputs": [
    {
     "data": {
      "text/html": [
       "<div>\n",
       "<style scoped>\n",
       "    .dataframe tbody tr th:only-of-type {\n",
       "        vertical-align: middle;\n",
       "    }\n",
       "\n",
       "    .dataframe tbody tr th {\n",
       "        vertical-align: top;\n",
       "    }\n",
       "\n",
       "    .dataframe thead th {\n",
       "        text-align: right;\n",
       "    }\n",
       "</style>\n",
       "<table border=\"1\" class=\"dataframe\">\n",
       "  <thead>\n",
       "    <tr style=\"text-align: right;\">\n",
       "      <th></th>\n",
       "      <th>number</th>\n",
       "      <th>image_url</th>\n",
       "    </tr>\n",
       "  </thead>\n",
       "  <tbody>\n",
       "    <tr>\n",
       "      <th>0</th>\n",
       "      <td>1</td>\n",
       "      <td>https://img.pokemondb.net/sprites/bank/normal/...</td>\n",
       "    </tr>\n",
       "    <tr>\n",
       "      <th>1</th>\n",
       "      <td>2</td>\n",
       "      <td>https://img.pokemondb.net/sprites/bank/normal/...</td>\n",
       "    </tr>\n",
       "    <tr>\n",
       "      <th>2</th>\n",
       "      <td>3</td>\n",
       "      <td>https://img.pokemondb.net/sprites/bank/normal/...</td>\n",
       "    </tr>\n",
       "    <tr>\n",
       "      <th>3</th>\n",
       "      <td>4</td>\n",
       "      <td>https://img.pokemondb.net/sprites/bank/normal/...</td>\n",
       "    </tr>\n",
       "    <tr>\n",
       "      <th>4</th>\n",
       "      <td>5</td>\n",
       "      <td>https://img.pokemondb.net/sprites/bank/normal/...</td>\n",
       "    </tr>\n",
       "    <tr>\n",
       "      <th>...</th>\n",
       "      <td>...</td>\n",
       "      <td>...</td>\n",
       "    </tr>\n",
       "    <tr>\n",
       "      <th>893</th>\n",
       "      <td>894</td>\n",
       "      <td>https://img.pokemondb.net/sprites/sword-shield...</td>\n",
       "    </tr>\n",
       "    <tr>\n",
       "      <th>894</th>\n",
       "      <td>895</td>\n",
       "      <td>https://img.pokemondb.net/sprites/sword-shield...</td>\n",
       "    </tr>\n",
       "    <tr>\n",
       "      <th>895</th>\n",
       "      <td>896</td>\n",
       "      <td>https://img.pokemondb.net/sprites/sword-shield...</td>\n",
       "    </tr>\n",
       "    <tr>\n",
       "      <th>896</th>\n",
       "      <td>897</td>\n",
       "      <td>https://img.pokemondb.net/sprites/sword-shield...</td>\n",
       "    </tr>\n",
       "    <tr>\n",
       "      <th>897</th>\n",
       "      <td>898</td>\n",
       "      <td>https://img.pokemondb.net/sprites/sword-shield...</td>\n",
       "    </tr>\n",
       "  </tbody>\n",
       "</table>\n",
       "<p>898 rows × 2 columns</p>\n",
       "</div>"
      ],
      "text/plain": [
       "     number                                          image_url\n",
       "0         1  https://img.pokemondb.net/sprites/bank/normal/...\n",
       "1         2  https://img.pokemondb.net/sprites/bank/normal/...\n",
       "2         3  https://img.pokemondb.net/sprites/bank/normal/...\n",
       "3         4  https://img.pokemondb.net/sprites/bank/normal/...\n",
       "4         5  https://img.pokemondb.net/sprites/bank/normal/...\n",
       "..      ...                                                ...\n",
       "893     894  https://img.pokemondb.net/sprites/sword-shield...\n",
       "894     895  https://img.pokemondb.net/sprites/sword-shield...\n",
       "895     896  https://img.pokemondb.net/sprites/sword-shield...\n",
       "896     897  https://img.pokemondb.net/sprites/sword-shield...\n",
       "897     898  https://img.pokemondb.net/sprites/sword-shield...\n",
       "\n",
       "[898 rows x 2 columns]"
      ]
     },
     "execution_count": 6,
     "metadata": {},
     "output_type": "execute_result"
    }
   ],
   "source": [
    "df"
   ]
  },
  {
   "cell_type": "code",
   "execution_count": 8,
   "metadata": {},
   "outputs": [],
   "source": [
    "df.to_csv('../data/pokemon_images.csv')"
   ]
  }
 ],
 "metadata": {
  "kernelspec": {
   "display_name": "Python 3 (ipykernel)",
   "language": "python",
   "name": "python3"
  },
  "language_info": {
   "codemirror_mode": {
    "name": "ipython",
    "version": 3
   },
   "file_extension": ".py",
   "mimetype": "text/x-python",
   "name": "python",
   "nbconvert_exporter": "python",
   "pygments_lexer": "ipython3",
   "version": "3.8.8"
  }
 },
 "nbformat": 4,
 "nbformat_minor": 2
}
